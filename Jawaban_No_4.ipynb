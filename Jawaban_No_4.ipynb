{
  "nbformat": 4,
  "nbformat_minor": 0,
  "metadata": {
    "colab": {
      "provenance": []
    },
    "kernelspec": {
      "name": "python3",
      "display_name": "Python 3"
    },
    "language_info": {
      "name": "python"
    }
  },
  "cells": [
    {
      "cell_type": "markdown",
      "source": [
        "Program Python untuk menerima nilai ke dalam list dan menampilkan nilai tertinggi"
      ],
      "metadata": {
        "id": "y1v0hx5n3DQ0"
      }
    },
    {
      "cell_type": "code",
      "source": [
        "n = int(input(\"Masukkan jumlah siswa: \"))\n",
        "nilai_siswa = []\n",
        "for i in range(n):\n",
        "    nilai = float(input(f\"Masukkan nilai siswa ke-{i+1}: \"))\n",
        "    nilai_siswa.append(nilai)\n",
        "\n",
        "nilai_tertinggi = max(nilai_siswa)\n",
        "index_tertinggi = nilai_siswa.index(nilai_tertinggi)\n",
        "\n",
        "print(f\"Nilai tertinggi adalah: {nilai_tertinggi}\")\n",
        "print(f\"Siswa ke-{index_tertinggi + 1} mendapatkan nilai tertinggi.\")"
      ],
      "metadata": {
        "colab": {
          "base_uri": "https://localhost:8080/"
        },
        "id": "8QOHuEMG2v91",
        "outputId": "cd4fdcb5-716c-44c7-ac57-8ac4dbaecfb0"
      },
      "execution_count": 2,
      "outputs": [
        {
          "output_type": "stream",
          "name": "stdout",
          "text": [
            "Masukkan jumlah siswa: 5\n",
            "Masukkan nilai siswa ke-1: 82\n",
            "Masukkan nilai siswa ke-2: 86\n",
            "Masukkan nilai siswa ke-3: 84\n",
            "Masukkan nilai siswa ke-4: 85\n",
            "Masukkan nilai siswa ke-5: 90\n",
            "Nilai tertinggi adalah: 90.0\n",
            "Siswa ke-5 mendapatkan nilai tertinggi.\n"
          ]
        }
      ]
    },
    {
      "cell_type": "markdown",
      "source": [],
      "metadata": {
        "id": "z05qg1sI2IVc"
      }
    }
  ]
}