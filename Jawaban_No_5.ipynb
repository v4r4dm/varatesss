{
  "nbformat": 4,
  "nbformat_minor": 0,
  "metadata": {
    "colab": {
      "provenance": []
    },
    "kernelspec": {
      "name": "python3",
      "display_name": "Python 3"
    },
    "language_info": {
      "name": "python"
    }
  },
  "cells": [
    {
      "cell_type": "markdown",
      "source": [
        "Program Python untuk membaca harga barang dan total pembayaran"
      ],
      "metadata": {
        "id": "pdNvPBwG7DcD"
      }
    },
    {
      "cell_type": "code",
      "source": [
        "# Program untuk menghitung total pembayaran dari 3 barang\n",
        "\n",
        "# Fungsi untuk menghitung total harga\n",
        "def hitung_total():\n",
        "    # Mengambil input harga dari pengguna\n",
        "    harga_barang1 = float(input(\"Masukkan harga barang ke-1: \"))\n",
        "    harga_barang2 = float(input(\"Masukkan harga barang ke-2: \"))\n",
        "    harga_barang3 = float(input(\"Masukkan harga barang ke-3: \"))\n",
        "\n",
        "    # Menghitung total harga\n",
        "    total_harga = harga_barang1 + harga_barang2 + harga_barang3\n",
        "\n",
        "    # Menampilkan hasil\n",
        "    print(f\"\\nTotal pembayaran Anda adalah: Rp {total_harga:.2f}\")\n",
        "\n",
        "# Memanggil fungsi untuk menjalankan program\n",
        "hitung_total()"
      ],
      "metadata": {
        "colab": {
          "base_uri": "https://localhost:8080/"
        },
        "id": "iBRf4FFY6-rL",
        "outputId": "8869eff9-1336-40d6-fafc-d9eb575f217b"
      },
      "execution_count": 2,
      "outputs": [
        {
          "output_type": "stream",
          "name": "stdout",
          "text": [
            "Masukkan harga barang ke-1: 400.000\n",
            "Masukkan harga barang ke-2: 350.000\n",
            "Masukkan harga barang ke-3: 500.000\n",
            "\n",
            "Total pembayaran Anda adalah: Rp 1250.00\n"
          ]
        }
      ]
    }
  ]
}