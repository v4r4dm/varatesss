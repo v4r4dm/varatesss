{
  "nbformat": 4,
  "nbformat_minor": 0,
  "metadata": {
    "colab": {
      "provenance": []
    },
    "kernelspec": {
      "name": "python3",
      "display_name": "Python 3"
    },
    "language_info": {
      "name": "python"
    }
  },
  "cells": [
    {
      "cell_type": "markdown",
      "source": [
        "Program python menghitung total bayar setelah diskon jika syarat terpenuhi"
      ],
      "metadata": {
        "id": "pdNvPBwG7DcD"
      }
    },
    {
      "cell_type": "code",
      "source": [
        "total_belanja = float(input(\"Masukkan total belanja: \"))\n",
        "\n",
        "if total_belanja > 500000:\n",
        "    diskon = 0.1 * total_belanja\n",
        "    total_bayar = total_belanja - diskon\n",
        "    print(f\"Anda mendapatkan diskon 10%! Total pembayaran: {total_bayar}\")\n",
        "else:\n",
        "    total_bayar = total_belanja\n",
        "    print(f\"Total pembayaran: {total_bayar}\")"
      ],
      "metadata": {
        "colab": {
          "base_uri": "https://localhost:8080/"
        },
        "id": "oMaEg0lr-pJq",
        "outputId": "12b3b657-75da-4791-d26b-a2021daefeae"
      },
      "execution_count": 3,
      "outputs": [
        {
          "output_type": "stream",
          "name": "stdout",
          "text": [
            "Masukkan total belanja: 2000000\n",
            "Anda mendapatkan diskon 10%! Total pembayaran: 1800000.0\n"
          ]
        }
      ]
    }
  ]
}