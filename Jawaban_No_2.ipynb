{
  "nbformat": 4,
  "nbformat_minor": 0,
  "metadata": {
    "colab": {
      "provenance": []
    },
    "kernelspec": {
      "name": "python3",
      "display_name": "Python 3"
    },
    "language_info": {
      "name": "python"
    }
  },
  "cells": [
    {
      "cell_type": "markdown",
      "source": [
        "Program python tipe data dan operator dalam menghitung rata rata dan menampilkan status kelulusan"
      ],
      "metadata": {
        "id": "pdNvPBwG7DcD"
      }
    },
    {
      "cell_type": "code",
      "source": [
        "nilai1 = float(input(\"Masukkan nilai mata pelajaran pertama: \"))\n",
        "nilai2 = float(input(\"Masukkan nilai mata pelajaran kedua: \"))\n",
        "nilai3 = float(input(\"Masukkan nilai mata pelajaran ketiga: \"))\n",
        "\n",
        "rata_rata = (nilai1 + nilai2 + nilai3) / 3  # float + float / int => float\n",
        "\n",
        "nilai_lulus = 70.0 # Float untuk konsistensi\n",
        "\n",
        "if rata_rata >= nilai_lulus:\n",
        "    print(\"Lulus\")\n",
        "else:\n",
        "    print(\"Tidak Lulus\")"
      ],
      "metadata": {
        "colab": {
          "base_uri": "https://localhost:8080/"
        },
        "id": "DOV_KrBSEMWC",
        "outputId": "5d10ca2f-8116-4fa8-860d-db2933f4be13"
      },
      "execution_count": null,
      "outputs": [
        {
          "output_type": "stream",
          "name": "stdout",
          "text": [
            "Masukkan nilai mata pelajaran pertama: 80\n",
            "Masukkan nilai mata pelajaran kedua: 81\n",
            "Masukkan nilai mata pelajaran ketiga: 89\n",
            "Lulus\n"
          ]
        }
      ]
    }
  ]
}